{
 "cells": [
  {
   "cell_type": "markdown",
   "id": "medieval-railway",
   "metadata": {},
   "source": [
    "# Prepare Mask Datasets From Kaggle"
   ]
  },
  {
   "cell_type": "markdown",
   "id": "owned-criterion",
   "metadata": {},
   "source": [
    "## 1. Convert Dataset Format to VIA"
   ]
  },
  {
   "cell_type": "markdown",
   "id": "proof-piano",
   "metadata": {},
   "source": [
    "- **Face Mask Detection Dataset**  \n",
    "<https://www.kaggle.com/wobotintelligence/face-mask-detection-dataset>"
   ]
  },
  {
   "cell_type": "code",
   "execution_count": 1,
   "id": "quantitative-northwest",
   "metadata": {},
   "outputs": [
    {
     "name": "stdout",
     "output_type": "stream",
     "text": [
      "Convert completed.\n",
      "-rw-rw-r-- 1 wzt wzt 5902672 2月  22 21:58 './datasets/Non-standard/Mask/Face Mask Detection Dataset/images/via_region_data.json'\n"
     ]
    }
   ],
   "source": [
    "!python \"./datasets/Non-standard/Mask/Face Mask Detection Dataset/to_via.py\"\n",
    "!ls -l \"./datasets/Non-standard/Mask/Face Mask Detection Dataset/images/via_region_data.json\""
   ]
  },
  {
   "cell_type": "markdown",
   "id": "labeled-perth",
   "metadata": {},
   "source": [
    "- **Face Mask Detection**  \n",
    "https://www.kaggle.com/andrewmvd/face-mask-detection"
   ]
  },
  {
   "cell_type": "code",
   "execution_count": 2,
   "id": "nearby-liver",
   "metadata": {},
   "outputs": [
    {
     "name": "stdout",
     "output_type": "stream",
     "text": [
      "Convert completed.\n",
      "-rw-rw-r-- 1 wzt wzt 5902672 2月  22 21:58 './datasets/Non-standard/Mask/Face Mask Detection Dataset/images/via_region_data.json'\n"
     ]
    }
   ],
   "source": [
    "!python \"./datasets/Non-standard/Mask/Face Mask Detection/to_via.py\"\n",
    "!ls -l \"./datasets/Non-standard/Mask/Face Mask Detection Dataset/images/via_region_data.json\""
   ]
  },
  {
   "cell_type": "markdown",
   "id": "comprehensive-audience",
   "metadata": {},
   "source": [
    "## 2. Divide the Dataset into Training Set and Validation Set"
   ]
  },
  {
   "cell_type": "markdown",
   "id": "floral-stream",
   "metadata": {},
   "source": [
    "- **Face Mask Detection Dataset**  \n",
    "<https://www.kaggle.com/wobotintelligence/face-mask-detection-dataset>"
   ]
  },
  {
   "cell_type": "code",
   "execution_count": 5,
   "id": "applicable-partnership",
   "metadata": {},
   "outputs": [
    {
     "name": "stdout",
     "output_type": "stream",
     "text": [
      "Split completed.\n",
      "总用量 104\n",
      "drwxrwxr-x 2 wzt wzt 81920 4月   8 23:44 train\n",
      "drwxrwxr-x 2 wzt wzt 20480 4月   8 23:44 val\n"
     ]
    }
   ],
   "source": [
    "!python \"./datasets/Non-standard/Mask/Face Mask Detection Dataset/train_val_split.py\"\n",
    "!ls -l \"./datasets/tmp/00_VIA-mask\""
   ]
  },
  {
   "cell_type": "markdown",
   "id": "bulgarian-pacific",
   "metadata": {},
   "source": [
    "- **Face Mask Detection**  \n",
    "https://www.kaggle.com/andrewmvd/face-mask-detection"
   ]
  },
  {
   "cell_type": "code",
   "execution_count": 6,
   "id": "referenced-pattern",
   "metadata": {},
   "outputs": [
    {
     "name": "stdout",
     "output_type": "stream",
     "text": [
      "Split completed.\n",
      "总用量 40\n",
      "drwxrwxr-x 2 wzt wzt 36864 4月   8 23:46 train\n",
      "drwxrwxr-x 2 wzt wzt  4096 4月   8 23:46 val\n"
     ]
    }
   ],
   "source": [
    "!python \"./datasets/Non-standard/Mask/Face Mask Detection/train_val_split.py\"\n",
    "!ls -l \"./datasets/tmp/01_VIA-mask\""
   ]
  },
  {
   "cell_type": "markdown",
   "id": "damaged-offset",
   "metadata": {},
   "source": [
    "## 3. Merge Two Datasets"
   ]
  },
  {
   "cell_type": "code",
   "execution_count": 7,
   "id": "significant-klein",
   "metadata": {},
   "outputs": [
    {
     "name": "stdout",
     "output_type": "stream",
     "text": [
      "Merging...\n",
      "Merge completed\n",
      "Merging...\n",
      "Merge completed\n"
     ]
    }
   ],
   "source": [
    "import os\n",
    "import via\n",
    "\n",
    "\n",
    "src_root1 = \"./datasets/tmp/00_VIA-mask\"\n",
    "src_root2 = \"./datasets/tmp/01_VIA-mask\"\n",
    "dst_root = \"./datasets/tmp/02_VIA-mask\"\n",
    "\n",
    "for train_or_val in [\"train\", \"val\"]:\n",
    "    # src\n",
    "    src_img_dir1 = os.path.join(src_root1, train_or_val)\n",
    "    src_img_dir2 = os.path.join(src_root2, train_or_val)\n",
    "    \n",
    "    src_via_dataset1 = via.ViaDataset(os.path.join(src_img_dir1, 'via_region_data.json'))\n",
    "    src_via_dataset2 = via.ViaDataset(os.path.join(src_img_dir2, 'via_region_data.json'))\n",
    "    \n",
    "    # dst\n",
    "    dst_img_dir = os.path.join(dst_root, train_or_val)\n",
    "    print(\"Merging...\")\n",
    "    os.makedirs(dst_img_dir, exist_ok=True)\n",
    "    via.merge_images(src_img_dir1, src_via_dataset1, src_img_dir2, src_via_dataset2, dst_img_dir)\n",
    "    print(\"Merge completed\")"
   ]
  },
  {
   "cell_type": "code",
   "execution_count": 32,
   "id": "advanced-tiger",
   "metadata": {},
   "outputs": [
    {
     "name": "stdout",
     "output_type": "stream",
     "text": [
      "总用量 152\n",
      "drwxrwxr-x 2 wzt wzt 135168 2月  22 23:51 train\n",
      "drwxrwxr-x 2 wzt wzt  20480 2月  22 23:51 val\n"
     ]
    }
   ],
   "source": [
    "!ls -l \"./datasets/tmp/02_VIA-mask\""
   ]
  },
  {
   "cell_type": "markdown",
   "id": "collaborative-dating",
   "metadata": {},
   "source": [
    "## 4. Add Person Class "
   ]
  },
  {
   "cell_type": "code",
   "execution_count": 3,
   "id": "separate-prize",
   "metadata": {},
   "outputs": [],
   "source": [
    "import os\n",
    "import cv2\n",
    "import numpy as np\n",
    "from detectron2 import model_zoo\n",
    "from detectron2.engine import DefaultPredictor\n",
    "from detectron2.config import get_cfg\n",
    "import via\n",
    "\n",
    "\n",
    "ckpt_dir = '/home/wzt/PFD/person_detection/checkpoint'\n",
    "\n",
    "def add_person_class(img_dir, via_dataset):\n",
    "    cfg = get_cfg()\n",
    "    cfg.merge_from_file(model_zoo.get_config_file(\"COCO-Keypoints/keypoint_rcnn_X_101_32x8d_FPN_3x.yaml\"))\n",
    "    cfg.MODEL.WEIGHTS = os.path.join(ckpt_dir, \"keypoint_rcnn_X_101_32x8d_FPN_3x.pkl\")\n",
    "    cfg.MODEL.ROI_HEADS.SCORE_THRESH_TEST = 0.9\n",
    "    predictor = DefaultPredictor(cfg)\n",
    "    \n",
    "    for anno in via_dataset.annotations:\n",
    "        filepath = os.path.join(img_dir, anno.filename)\n",
    "        if os.path.exists(filepath):\n",
    "            im = cv2.imread(filepath)\n",
    "        else:\n",
    "#             print(filepath)\n",
    "            continue\n",
    "        outputs= predictor(im)\n",
    "        \n",
    "        regions = anno.regions\n",
    "        for box in outputs[\"instances\"].pred_boxes:\n",
    "            box = box.cpu().tolist()\n",
    "            regions.append({\n",
    "                'shape_attributes': {\n",
    "                    'name': 'rect',\n",
    "                    'x': box[0],\n",
    "                    'y': box[1],\n",
    "                    'width': box[2] - box[0],\n",
    "                    'height': box[3] - box[1]\n",
    "                },\n",
    "                'region_attributes': {'class': 'person'}\n",
    "            })\n",
    "    return via_dataset"
   ]
  },
  {
   "cell_type": "code",
   "execution_count": 4,
   "id": "useful-wheat",
   "metadata": {},
   "outputs": [
    {
     "name": "stdout",
     "output_type": "stream",
     "text": [
      "Adding...\n",
      "Completed\n",
      "Adding...\n",
      "Completed\n"
     ]
    }
   ],
   "source": [
    "# root\n",
    "src_root = \"./datasets/tmp/02_VIA-mask\"\n",
    "dst_root = \"./datasets/tmp/03_VIA-person_and_mask\"\n",
    "\n",
    "for train_or_val in [\"train\", \"val\"]:\n",
    "    # src\n",
    "    src_img_dir = os.path.join(src_root, train_or_val)\n",
    "    src_json_file = os.path.join(src_img_dir, 'via_region_data.json')\n",
    "    \n",
    "    # dst\n",
    "    dst_img_dir = os.path.join(dst_root, train_or_val)\n",
    "    dst_json_file = os.path.join(dst_img_dir, 'via_region_data.json')\n",
    "    os.makedirs(dst_img_dir, exist_ok=True)\n",
    "\n",
    "    # add\n",
    "    print(\"Adding...\")\n",
    "#     via_dataset = via.ViaDataset(src_json_file)\n",
    "#     add_person_class(src_img_dir, via_dataset)\n",
    "#     via_dataset.save(dst_json_file)\n",
    "#     via.copy_images(src_img_dir, via_dataset, dst_img_dir)\n",
    "    print(\"Completed\")"
   ]
  },
  {
   "cell_type": "code",
   "execution_count": 5,
   "id": "aging-processing",
   "metadata": {},
   "outputs": [
    {
     "name": "stdout",
     "output_type": "stream",
     "text": [
      "总用量 152\n",
      "drwxrwxr-x 2 wzt wzt 131072 4月  20 02:10 train\n",
      "drwxrwxr-x 2 wzt wzt  20480 4月  20 02:13 val\n",
      "-rw-rw-r-- 1 wzt wzt 10937763 4月  20 02:10 ./datasets/tmp/03_VIA-person_and_mask/train/via_region_data.json\n",
      "-rw-rw-r-- 1 wzt wzt 1934510 4月  20 02:13 ./datasets/tmp/03_VIA-person_and_mask/val/via_region_data.json\n"
     ]
    }
   ],
   "source": [
    "!ls -l \"./datasets/tmp/03_VIA-person_and_mask\"\n",
    "!ls -l \"./datasets/tmp/03_VIA-person_and_mask/train/via_region_data.json\"\n",
    "!ls -l \"./datasets/tmp/03_VIA-person_and_mask/val/via_region_data.json\""
   ]
  },
  {
   "cell_type": "markdown",
   "id": "competitive-applicant",
   "metadata": {},
   "source": [
    "## 5. Filter Out Useless Categories "
   ]
  },
  {
   "cell_type": "code",
   "execution_count": 36,
   "id": "criminal-latex",
   "metadata": {},
   "outputs": [
    {
     "name": "stdout",
     "output_type": "stream",
     "text": [
      "Filtering...\n",
      "Filter completed\n",
      "Filtering...\n",
      "Filter completed\n"
     ]
    }
   ],
   "source": [
    "import via\n",
    "\n",
    "\n",
    "# root\n",
    "src_root = \"./datasets/tmp/03_VIA-person_and_mask\"\n",
    "dst_root = \"./datasets/tmp/04_VIA-person_and_mask\"\n",
    "\n",
    "categories_map = {\n",
    "    \"face_with_mask\": \"face_with_mask\",\n",
    "    \"with_mask\": \"face_with_mask\",\n",
    "    \"mask_weared_incorrect\": \"face_with_mask\",    \n",
    "    \"person\": \"person\",\n",
    "}\n",
    "\n",
    "for train_or_val in [\"train\", \"val\"]:\n",
    "    # src\n",
    "    src_img_dir = os.path.join(src_root, train_or_val)\n",
    "    src_json_file = os.path.join(src_img_dir, 'via_region_data.json')\n",
    "    \n",
    "    # dst\n",
    "    dst_img_dir = os.path.join(dst_root, train_or_val)\n",
    "    dst_json_file = os.path.join(dst_img_dir, 'via_region_data.json')\n",
    "    \n",
    "    print(\"Filtering...\")\n",
    "    via_dataset = via.ViaDataset(src_json_file)\n",
    "    via_dataset.map_class(categories_map)\n",
    "    \n",
    "    os.makedirs(dst_img_dir, exist_ok=True)\n",
    "    via_dataset.save(dst_json_file)\n",
    "    via.copy_images(src_img_dir, via_dataset, dst_img_dir)\n",
    "    print(\"Filter completed\")\n"
   ]
  },
  {
   "cell_type": "code",
   "execution_count": 37,
   "id": "bacterial-destruction",
   "metadata": {},
   "outputs": [
    {
     "name": "stdout",
     "output_type": "stream",
     "text": [
      "-rw-rw-r-- 1 wzt wzt 2603603 2月  23 00:09 ./datasets/tmp/04_VIA-person_and_mask/train/via_region_data.json\n",
      "-rw-rw-r-- 1 wzt wzt 1315751 2月  23 00:09 ./datasets/tmp/04_VIA-person_and_mask/val/via_region_data.json\n"
     ]
    }
   ],
   "source": [
    "!ls -l \"./datasets/tmp/04_VIA-person_and_mask/train/via_region_data.json\"\n",
    "!ls -l \"./datasets/tmp/04_VIA-person_and_mask/val/via_region_data.json\""
   ]
  },
  {
   "cell_type": "markdown",
   "id": "occasional-antigua",
   "metadata": {},
   "source": [
    "## 6. Convert Person Dataset(COCO) to Person Dataset(VIA) "
   ]
  },
  {
   "cell_type": "code",
   "execution_count": 3,
   "id": "shared-product",
   "metadata": {},
   "outputs": [
    {
     "name": "stdout",
     "output_type": "stream",
     "text": [
      "Loading...\n",
      "COCO json file loaded\n",
      "Copying...\n",
      "COCO images copied\n",
      "Loading...\n",
      "COCO json file loaded\n",
      "Copying...\n",
      "COCO images copied\n"
     ]
    }
   ],
   "source": [
    "import os\n",
    "import via\n",
    "\n",
    "dst_root = './datasets/tmp/05_VIA-person/'\n",
    "category_to_class = {0: 'person'}\n",
    "\n",
    "for train_or_val in [\"train\", \"val\"]:\n",
    "    # src\n",
    "    coco_img_dir = \"/home/wzt/PFD/COCO/{}2017\".format(train_or_val)\n",
    "    coco_json_file = \"/home/wzt/PFD/COCO/{}2017_person.json\".format(train_or_val)\n",
    "\n",
    "    # dst\n",
    "    dst_img_dir = os.path.join(dst_root, train_or_val)\n",
    "    dst_json_file = os.path.join(dst_img_dir, 'via_region_data.json')\n",
    "    \n",
    "    # 读取COCO Json文件\n",
    "    print(\"Loading...\")\n",
    "    via_dataset = via.ViaDataset()\n",
    "    via_dataset.load_coco(coco_json_file, coco_img_dir, category_to_class)\n",
    "    print(\"COCO json file loaded\")\n",
    "    \n",
    "    # 复制该Json文件下包含的图片到目标目录\n",
    "    print(\"Copying...\")\n",
    "    os.makedirs(dst_img_dir, exist_ok=True)\n",
    "    via_dataset.save(dst_json_file)\n",
    "    via.copy_images(coco_img_dir, via_dataset, dst_img_dir)\n",
    "    print(\"COCO images copied\")\n"
   ]
  },
  {
   "cell_type": "code",
   "execution_count": 4,
   "id": "painful-particular",
   "metadata": {},
   "outputs": [
    {
     "name": "stdout",
     "output_type": "stream",
     "text": [
      "-rw-rw-r-- 1 wzt wzt 602967362 4月   5 12:10 ./datasets/tmp/05_VIA-person/train/via_region_data.json\n",
      "-rw-rw-r-- 1 wzt wzt 25037769 4月   5 12:10 ./datasets/tmp/05_VIA-person/val/via_region_data.json\n"
     ]
    }
   ],
   "source": [
    "!ls -l \"./datasets/tmp/05_VIA-person/train/via_region_data.json\"\n",
    "!ls -l \"./datasets/tmp/05_VIA-person/val/via_region_data.json\""
   ]
  },
  {
   "cell_type": "markdown",
   "id": "postal-mirror",
   "metadata": {},
   "source": [
    "## 7. Merge Person Dataset(VIA) and Person_and_Mask Dataset(VIA) "
   ]
  },
  {
   "cell_type": "code",
   "execution_count": 44,
   "id": "attractive-grass",
   "metadata": {},
   "outputs": [
    {
     "name": "stdout",
     "output_type": "stream",
     "text": [
      "Merging...\n",
      "Merge completed\n",
      "Merging...\n",
      "Merge completed\n"
     ]
    }
   ],
   "source": [
    "import os\n",
    "import via\n",
    "\n",
    "\n",
    "src_root1 = \"./datasets/tmp/04_VIA-person_and_mask\"\n",
    "src_root2 = \"./datasets/tmp/05_VIA-person\"\n",
    "dst_root = \"./datasets/tmp/06_VIA-person_and_mask\"\n",
    "\n",
    "for train_or_val in [\"train\", \"val\"]:\n",
    "    # src\n",
    "    src_img_dir1 = os.path.join(src_root1, train_or_val)\n",
    "    src_img_dir2 = os.path.join(src_root2, train_or_val)\n",
    "    \n",
    "    src_via_dataset1 = via.ViaDataset(os.path.join(src_img_dir1, 'via_region_data.json'))\n",
    "    src_via_dataset2 = via.ViaDataset(os.path.join(src_img_dir2, 'via_region_data.json'))\n",
    "    \n",
    "    # dst\n",
    "    dst_img_dir = os.path.join(dst_root, train_or_val)\n",
    "    print(\"Merging...\")\n",
    "    os.makedirs(dst_img_dir, exist_ok=True)\n",
    "    via.merge_images(src_img_dir1, src_via_dataset1, src_img_dir2, src_via_dataset2, dst_img_dir)\n",
    "    print(\"Merge completed\")"
   ]
  },
  {
   "cell_type": "code",
   "execution_count": 47,
   "id": "bored-superior",
   "metadata": {},
   "outputs": [
    {
     "name": "stdout",
     "output_type": "stream",
     "text": [
      "-rw-rw-r-- 1 wzt wzt 605570963 2月  23 00:43 ./datasets/tmp/06_VIA-person_and_mask/train/via_region_data.json\n",
      "-rw-rw-r-- 1 wzt wzt 26353518 2月  23 00:43 ./datasets/tmp/06_VIA-person_and_mask/val/via_region_data.json\n"
     ]
    }
   ],
   "source": [
    "!ls -l \"./datasets/tmp/06_VIA-person_and_mask/train/via_region_data.json\"\n",
    "!ls -l \"./datasets/tmp/06_VIA-person_and_mask/val/via_region_data.json\""
   ]
  },
  {
   "cell_type": "code",
   "execution_count": null,
   "id": "metallic-opening",
   "metadata": {},
   "outputs": [],
   "source": []
  }
 ],
 "metadata": {
  "kernelspec": {
   "display_name": "Python 3",
   "language": "python",
   "name": "python3"
  },
  "language_info": {
   "codemirror_mode": {
    "name": "ipython",
    "version": 3
   },
   "file_extension": ".py",
   "mimetype": "text/x-python",
   "name": "python",
   "nbconvert_exporter": "python",
   "pygments_lexer": "ipython3",
   "version": "3.7.9"
  }
 },
 "nbformat": 4,
 "nbformat_minor": 5
}
